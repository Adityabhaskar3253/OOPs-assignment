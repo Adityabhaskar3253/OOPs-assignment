{
  "nbformat": 4,
  "nbformat_minor": 0,
  "metadata": {
    "colab": {
      "provenance": []
    },
    "kernelspec": {
      "name": "python3",
      "display_name": "Python 3"
    },
    "language_info": {
      "name": "python"
    }
  },
  "cells": [
    {
      "cell_type": "markdown",
      "source": [
        "# Theory questions"
      ],
      "metadata": {
        "id": "CppwYXXEa2RR"
      }
    },
    {
      "cell_type": "markdown",
      "source": [
        "**1.What is Object-Oriented Programming (OOP)**\n",
        "\n",
        "->\n",
        "**Object-Oriented Programming (OOP)** is a programming paradigm that organizes software around objects, which are instances of classes. These objects encapsulate data (attributes) and behavior (methods). The core concepts of OOP include:\n",
        "\n",
        "**Class:** A blueprint for creating objects.\n",
        "\n",
        "**Object:** An instance of a class.\n",
        "\n",
        "**Encapsulation:** Bundling data and methods within a class and restricting access to some components.\n",
        "\n",
        "**Abstraction:** Hiding complex implementation details and exposing only essential features.\n",
        "\n",
        "**Inheritance**: Allowing new classes to inherit properties and behaviors from existing ones.\n",
        "\n",
        "**Polymorphism:** Enabling objects of different classes to be treated as instances of a common superclass, allowing for method overriding.\n",
        "\n",
        "*OOP promotes modularity, reusability, and maintainability of code*."
      ],
      "metadata": {
        "id": "IwKFakZGa72Y"
      }
    },
    {
      "cell_type": "markdown",
      "source": [
        "**2. What is a class in OOP?**\n",
        "\n",
        " -> **In Object-Oriented Programming (OOP)**, a class is a blueprint for creating objects. It defines attributes (data) and methods (functions) that describe the behavior and state of the objects created from it. A class allows for creating multiple instances (objects) with similar properties and functionality.\n",
        "\n",
        "\n",
        "\n",
        "\n",
        "\n",
        "\n"
      ],
      "metadata": {
        "id": "KhleRC8jb6Ow"
      }
    },
    {
      "cell_type": "markdown",
      "source": [
        "**3. What is an object in OOP?**\n",
        "\n",
        "->**In Object-Oriented Programming (OOP)**, an object is an instance of a class. It represents a real-world entity with specific attributes (data) and behaviors (methods) defined by the class. Objects can interact with each other and store their own state."
      ],
      "metadata": {
        "id": "01BGI4IScuzV"
      }
    },
    {
      "cell_type": "markdown",
      "source": [
        "**4.What is the difference between abstraction and encapsulation?**\n",
        "\n",
        "-> The key difference between abstraction and encapsulation in Object-Oriented Programming (OOP) is as follows:\n",
        "\n",
        "**Abstraction:**\n",
        "\n",
        " **Definition:** Hiding the complex implementation details and showing only the essential features or functionality of an object.\n",
        "\n",
        " **Purpose:** Focuses on what an object does, not how it does it.\n",
        "\n",
        " **Example:** A TV remote control hides the internal workings (e.g., circuits) and exposes simple buttons like \"Power\", \"Volume\", and \"Channel\".\n",
        "\n",
        "**Encapsulation:**\n",
        "\n",
        " **Definition**: Bundling the data (attributes) and methods (functions) that operate on the data into a single unit (the object), and restricting access to some of the object's components.\n",
        "\n",
        "**Purpose:** Focuses on protecting data and controlling access through methods.\n",
        "\n",
        "**Example:** A BankAccount class encapsulates the balance attribute and provides methods like deposit() and withdraw() to interact with the balance, without allowing direct access to it."
      ],
      "metadata": {
        "id": "1AWcNhC9dA8G"
      }
    },
    {
      "cell_type": "markdown",
      "source": [
        "**5. What are dunder methods in Python?**\n",
        "\n",
        "-> **Dunder methods** (short for \"**double underscore\" methods**) in Python are special methods that have double underscores at the beginning and end of their names, like __init__, __str__, __add__, etc. They allow customization of how objects behave in specific operations, such as initialization, string representation, arithmetic operations, and comparisons.\n",
        "\n",
        "**Example:**\n",
        "\n",
        "__init__(self): Initializes an object.\n",
        "\n",
        "__str__(self): Defines how the object is represented as a string.\n",
        "\n",
        "__add__(self, other): Defines the behavior for the + operator.\n",
        "\n",
        "*These methods allow you to define custom behavior for objects in various contexts.*"
      ],
      "metadata": {
        "id": "Kwdxc5nLdsjl"
      }
    },
    {
      "cell_type": "markdown",
      "source": [
        "**6.Explain the concept of inheritance in OOP?**\n",
        "\n",
        "->**Inheritance** in **Object-Oriented Programming (OOP)** is a mechanism where a **child class** inherits attributes and methods from a **parent class,** allowing code reuse and extending functionality. The child class can also override or add new methods to customize behavior.\n",
        "\n",
        " **EXAMPLE**"
      ],
      "metadata": {
        "id": "r56VuzHceUgt"
      }
    },
    {
      "cell_type": "code",
      "source": [
        "class Animal:\n",
        "    def speak(self):\n",
        "        return \"Animal sound\"\n",
        "\n",
        "class Dog(Animal):\n",
        "    def speak(self):\n",
        "        return \"Bark\"\n",
        "#Inheritance allows the child class to use and extend the functionality of the parent class."
      ],
      "metadata": {
        "id": "rzZsk1E6e9AP"
      },
      "execution_count": 2,
      "outputs": []
    },
    {
      "cell_type": "markdown",
      "source": [
        "**7. What is polymorphism in OOP?**\n",
        "\n",
        "-> **Polymorphism** in Object-Oriented Programming (OOP) refers to the ability of different classes to provide a method with the same name but potentially different implementations. It allows objects of different classes to be treated as instances of the same class through a common interface.\n",
        "\n",
        "There are two types of polymorphism:\n",
        "\n",
        "**Method Overloading**: Multiple methods with the same name but different parameters (not directly supported in Python, but can be simulated).\n",
        "\n",
        "**Method Overriding:** A subclass provides a specific implementation of a method that is already defined in its superclass.\n",
        "\n",
        "In Python, polymorphism is commonly achieved through method overriding.\n",
        "\n",
        "**Example:**"
      ],
      "metadata": {
        "id": "XpaXDn67fh6a"
      }
    },
    {
      "cell_type": "code",
      "source": [
        "class Animal:\n",
        "    def speak(self):\n",
        "        return \"Animal sound\"\n",
        "\n",
        "class Dog(Animal):\n",
        "    def speak(self):\n",
        "        return \"Woof\"\n",
        "\n",
        "class Cat(Animal):\n",
        "    def speak(self):\n",
        "        return \"Meow\"\n",
        "\n",
        "# Polymorphism in action\n",
        "animals = [Dog(), Cat()]\n",
        "for animal in animals:\n",
        "    print(animal.speak())\n"
      ],
      "metadata": {
        "colab": {
          "base_uri": "https://localhost:8080/"
        },
        "id": "4CN_L3J9f-kU",
        "outputId": "65a0ebd4-e8c4-401e-eec5-6ab8843535a5"
      },
      "execution_count": 4,
      "outputs": [
        {
          "output_type": "stream",
          "name": "stdout",
          "text": [
            "Woof\n",
            "Meow\n"
          ]
        }
      ]
    },
    {
      "cell_type": "markdown",
      "source": [
        "**8. How is encapsulation achieved in Python?**\n",
        "\n",
        "->** Encapsulation **in Python is achieved by bundling data (attributes) and methods that operate on the data into a single unit, typically a class, and restricting access to certain components. This is done using access modifiers to control visibility:\n",
        "\n",
        "**Public**: Attributes and methods are accessible from outside the class.\n",
        "\n",
        "  **Example:** self.name\n",
        "\n",
        "**Protected:** Attributes and methods are intended for internal use within the class and subclasses.\n",
        "They are marked with a single underscore (_).\n",
        "\n",
        "**Example:** self._name\n",
        "\n",
        "**Private:** Attributes and methods are restricted from outside access and are intended to be used only within the class. They are marked with a double underscore (__).\n",
        "\n",
        "**Example:** self.__name\n",
        "**Example of encapsulation in Python:**"
      ],
      "metadata": {
        "id": "a-vM2deDgEtI"
      }
    },
    {
      "cell_type": "code",
      "source": [
        "class Person:\n",
        "    def __init__(self, name, age):\n",
        "        self.__name = name  # private attribute\n",
        "        self._age = age     # protected attribute\n",
        "\n",
        "    def get_name(self):  # public method\n",
        "        return self.__name\n",
        "\n",
        "    def set_name(self, name):  # public method\n",
        "        self.__name = name\n",
        "\n",
        "p = Person(\"John\", 30)\n",
        "print(p.get_name())  # Accessing private data via method\n",
        "# print(p.__name)  # Error: 'Person' object has no attribute '__name'\n"
      ],
      "metadata": {
        "colab": {
          "base_uri": "https://localhost:8080/"
        },
        "id": "4XEVqXXUg2Of",
        "outputId": "2d2d2bbd-51f9-4756-f957-ccd17af5c638"
      },
      "execution_count": 5,
      "outputs": [
        {
          "output_type": "stream",
          "name": "stdout",
          "text": [
            "John\n"
          ]
        }
      ]
    },
    {
      "cell_type": "markdown",
      "source": [
        "**9. What is a constructor in Python?**\n",
        "\n",
        "-> A **constructor** in Python is a special method __init__() that is automatically called when an object of a class is created. It is used to initialize the object's attributes with initial values.\n",
        "\n",
        "**Example:**"
      ],
      "metadata": {
        "id": "0wxwQTi9hO9K"
      }
    },
    {
      "cell_type": "code",
      "source": [
        "class Person:\n",
        "    def __init__(self, name, age):\n",
        "        self.name = name  # Initialize name\n",
        "        self.age = age    # Initialize age\n",
        "\n",
        "# Creating an object\n",
        "p = Person(\"John\", 30)\n",
        "print(p.name)\n"
      ],
      "metadata": {
        "colab": {
          "base_uri": "https://localhost:8080/"
        },
        "id": "TV7zEU9mheCb",
        "outputId": "a2ad998c-bf24-4fac-ec4f-a936a04681a0"
      },
      "execution_count": 6,
      "outputs": [
        {
          "output_type": "stream",
          "name": "stdout",
          "text": [
            "John\n"
          ]
        }
      ]
    },
    {
      "cell_type": "markdown",
      "source": [
        "**10.What are class and static methods in Python?**\n",
        "\n",
        "-> **Class Method:** A method that operates on the class itself, taking cls as the first argument. It is defined using the @classmethod decorator and can modify class-level attributes.\n",
        "\n",
        "**Example:**\n"
      ],
      "metadata": {
        "id": "Pk4YaE4whoWc"
      }
    },
    {
      "cell_type": "code",
      "source": [
        "@classmethod\n",
        "def my_class_method(cls):\n",
        "    pass\n"
      ],
      "metadata": {
        "id": "eT96IJJFiCS-"
      },
      "execution_count": 7,
      "outputs": []
    },
    {
      "cell_type": "markdown",
      "source": [
        "**Static Method:** A method that doesn't take self or cls as arguments. It is defined using the @staticmethod decorator and is used for utility functions that don't modify class or instance state.\n",
        "\n",
        "Example:"
      ],
      "metadata": {
        "id": "7Do55VIgiIgD"
      }
    },
    {
      "cell_type": "code",
      "source": [
        "@staticmethod\n",
        "def my_static_method():\n",
        "    pass\n"
      ],
      "metadata": {
        "id": "A5aDxp-biNRU"
      },
      "execution_count": 8,
      "outputs": []
    },
    {
      "cell_type": "markdown",
      "source": [
        "**11.What is method overloading in Python?**\n",
        "\n",
        "-> **Method overloading** in Python refers to defining multiple methods with the same name but different parameters (number or type of arguments).\n",
        "\n",
        "However, Python does not support **true method overloading** like other languages (e.g., Java or C++). Instead, Python allows you to define a single method and handle different argument cases within it, often using default arguments or variable-length argument lists.\n",
        "\n",
        "**Example:**"
      ],
      "metadata": {
        "id": "At1Zu4GCiUUg"
      }
    },
    {
      "cell_type": "code",
      "source": [
        "class MyClass:\n",
        "    def greet(self, name=\"Guest\"):\n",
        "        print(f\"Hello, {name}\")\n",
        "\n",
        "obj = MyClass()\n",
        "obj.greet()\n",
        "obj.greet(\"John\")"
      ],
      "metadata": {
        "colab": {
          "base_uri": "https://localhost:8080/"
        },
        "id": "6J9ZFkZiimpx",
        "outputId": "6220cf8b-69bf-44ea-8991-b6cbbbfa3b60"
      },
      "execution_count": 10,
      "outputs": [
        {
          "output_type": "stream",
          "name": "stdout",
          "text": [
            "Hello, Guest\n",
            "Hello, John\n"
          ]
        }
      ]
    },
    {
      "cell_type": "markdown",
      "source": [
        "**12.What is method overriding in OOP?**\n",
        "\n",
        "-> **Method overriding** in Object-Oriented Programming (OOP) occurs when a subclass provides a specific implementation of a method that is already defined in its superclass. The subclass method has the same name, parameters, and return type as the method in the superclass, allowing it to replace or extend the functionality of the inherited method.\n",
        "\n",
        "**Example:**"
      ],
      "metadata": {
        "id": "B3C-urQ_isGe"
      }
    },
    {
      "cell_type": "code",
      "source": [
        "class Animal:\n",
        "    def speak(self):\n",
        "        return \"Animal sound\"\n",
        "\n",
        "class Dog(Animal):\n",
        "    def speak(self):\n",
        "        return \"Woof\"\n",
        "\n",
        "# Creating objects\n",
        "dog = Dog()\n",
        "print(dog.speak())\n"
      ],
      "metadata": {
        "colab": {
          "base_uri": "https://localhost:8080/"
        },
        "id": "3oXWcJ7li_th",
        "outputId": "0ca28449-fc95-4e54-fe70-04d5db876f73"
      },
      "execution_count": 12,
      "outputs": [
        {
          "output_type": "stream",
          "name": "stdout",
          "text": [
            "Woof\n"
          ]
        }
      ]
    },
    {
      "cell_type": "markdown",
      "source": [
        "**13.What is a property decorator in Python?**\n",
        "\n",
        "->\n",
        "The **property decorator** in Python is used to define methods that behave like attributes. It allows controlled access to instance variables via getter, setter, and deleter methods, without directly exposing the underlying attribute.\n",
        "\n",
        "**Example:**"
      ],
      "metadata": {
        "id": "v4--ghZXjKQX"
      }
    },
    {
      "cell_type": "code",
      "source": [
        "class Circle:\n",
        "    def __init__(self, radius):\n",
        "        self._radius = radius\n",
        "\n",
        "    @property\n",
        "    def radius(self):\n",
        "        return self._radius\n",
        "\n",
        "    @radius.setter\n",
        "    def radius(self, value):\n",
        "        if value < 0:\n",
        "            raise ValueError(\"Radius cannot be negative\")\n",
        "        self._radius = value\n"
      ],
      "metadata": {
        "id": "SGTU9hBpjXnx"
      },
      "execution_count": 15,
      "outputs": []
    },
    {
      "cell_type": "markdown",
      "source": [
        "**14.Why is polymorphism important in OOP?**\n",
        "\n",
        "-> **Polymorphism** is important in Object-Oriented Programming (OOP) because it allows objects of different classes to be treated as objects of a common superclass. This promotes **code reusability**, **flexibility**, and **extensibility**. By using polymorphism, the same method or function can operate on different types of objects, making the code more scalable and easier to maintain.\n",
        "\n",
        "In short, polymorphism enables the use of a unified interface while working with different data types or classes."
      ],
      "metadata": {
        "id": "B-Kja8dXjcKb"
      }
    },
    {
      "cell_type": "markdown",
      "source": [
        "**15. What is an abstract class in Python?**\n",
        "\n",
        "-> An **abstract class** in Python is a class that cannot be instantiated directly and is meant to be subclassed. It may contain **abstract methods**, which are methods without implementation that must be overridden in subclasses. Abstract classes are defined using the abc module with the @abstractmethod decorator.\n",
        "\n",
        "**Example:**\n",
        "\n"
      ],
      "metadata": {
        "id": "lmJ8pbkyjvUW"
      }
    },
    {
      "cell_type": "code",
      "source": [
        "from abc import ABC, abstractmethod\n",
        "\n",
        "class Animal(ABC):\n",
        "    @abstractmethod\n",
        "    def speak(self):\n",
        "        pass\n"
      ],
      "metadata": {
        "id": "nHWqI5WckBlR"
      },
      "execution_count": 16,
      "outputs": []
    },
    {
      "cell_type": "markdown",
      "source": [
        "**16.What are the advantages of OOP?**\n",
        "\n",
        "-> The advantages of **Object-Oriented Programming (OOP)** are:\n",
        "\n",
        "**Modularity:** Code is organized into classes and objects, promoting code reusability and easier maintenance.\n",
        "\n",
        "Encapsulation: Data and methods are bundled together, protecting data and restricting direct access.\n",
        "\n",
        "**Inheritance:** Allows new classes to inherit properties and behaviors from existing ones, promoting code reuse and reducing redundancy.\n",
        "\n",
        "**Polymorphism:** Enables different classes to be treated as the same type, allowing for flexible and extensible code.\n",
        "\n",
        "**Abstraction:** Hides complex implementation details and shows only essential features, making the code easier to understand and use."
      ],
      "metadata": {
        "id": "7WGHyK_pkEs0"
      }
    },
    {
      "cell_type": "markdown",
      "source": [
        "**17.What is the difference between a class variable and an instance variable?**\n",
        "\n",
        "-> The key differences between a **class variable** and an instance variable are:\n",
        "\n",
        "**1.Class Variable:**\n",
        "\n",
        "Belongs to the class itself, shared by all instances of the class.\n",
        "Defined outside any method, typically at the class level.\n",
        "All instances of the class have access to the same class variable.\n",
        "**Example:**\n",
        "\n",
        "    class MyClass:\n",
        "        class_var = 10  # Class variable\n",
        "**2.Instance Variable:**\n",
        "\n",
        "Belongs to **individual instances** of the class, unique to each object.\n",
        "Defined inside methods (usually __init__), using self.\n",
        "Each object has its own copy of the instance variable.\n",
        "**Example:**\n",
        "\n",
        "    class MyClass:\n",
        "    def __init__(self, value):\n",
        "        self.instance_var = value  # Instance variable\n"
      ],
      "metadata": {
        "id": "G5epiREXkeKC"
      }
    },
    {
      "cell_type": "markdown",
      "source": [
        "**18.What is multiple inheritance in Python?**\n",
        "\n",
        "-> **Multiple inheritance** in Python is a feature where a class can inherit attributes and methods from more than one parent class. This allows a subclass to combine functionality from multiple classes.\n",
        "\n",
        "**Example:**\n",
        "  \n"
      ],
      "metadata": {
        "id": "HF5NVR-WlXGZ"
      }
    },
    {
      "cell_type": "code",
      "source": [
        "class A:\n",
        "    def method_a(self):\n",
        "        print(\"Method A\")\n",
        "\n",
        "class B:\n",
        "    def method_b(self):\n",
        "        print(\"Method B\")\n",
        "\n",
        "class C(A, B):\n",
        "    pass\n",
        "\n",
        "obj = C()\n",
        "obj.method_a()\n",
        "obj.method_b()\n"
      ],
      "metadata": {
        "colab": {
          "base_uri": "https://localhost:8080/"
        },
        "id": "X6_Nk90QlvSt",
        "outputId": "9870b6ef-df60-49cd-84b4-9b08ef2c1d54"
      },
      "execution_count": 18,
      "outputs": [
        {
          "output_type": "stream",
          "name": "stdout",
          "text": [
            "Method A\n",
            "Method B\n"
          ]
        }
      ]
    },
    {
      "cell_type": "markdown",
      "source": [
        "**19.Explain the purpose of ‘’__str__’ and ‘__repr__’ ‘ methods in Python?**\n",
        "\n",
        "-> In Python, the __str__ and __repr__ methods are used to define how an object is represented as a string:\n",
        "\n",
        "__str__:\n",
        "\n",
        "Provides a human-readable, informal string representation of an object.\n",
        "Used by the print() function and str().\n",
        "**Example:**"
      ],
      "metadata": {
        "id": "qtP4zSDTl20O"
      }
    },
    {
      "cell_type": "code",
      "source": [
        "class MyClass:\n",
        "    def __str__(self):\n",
        "        return \"This is MyClass object\"\n",
        "\n",
        "obj = MyClass()\n",
        "print(obj)\n"
      ],
      "metadata": {
        "colab": {
          "base_uri": "https://localhost:8080/"
        },
        "id": "uWYa7EfPmLUH",
        "outputId": "9bf01a27-5b7b-4324-ac1e-d750ff7effe8"
      },
      "execution_count": 20,
      "outputs": [
        {
          "output_type": "stream",
          "name": "stdout",
          "text": [
            "This is MyClass object\n"
          ]
        }
      ]
    },
    {
      "cell_type": "markdown",
      "source": [
        "__repr__:\n",
        "\n",
        "Provides a formal, unambiguous string representation of an object, typically used for debugging.\n",
        "Used by the repr() function and in the interpreter when an object is returned.\n"
      ],
      "metadata": {
        "id": "04ALjfF_mPTc"
      }
    },
    {
      "cell_type": "code",
      "source": [
        "class MyClass:\n",
        "    def __repr__(self):\n",
        "        return \"MyClass()\"\n",
        "\n",
        "obj = MyClass()\n",
        "print(repr(obj))\n"
      ],
      "metadata": {
        "colab": {
          "base_uri": "https://localhost:8080/"
        },
        "id": "ndWk0Ig5mMCm",
        "outputId": "fcead870-0169-41c4-fe26-5d362a1c81af"
      },
      "execution_count": 22,
      "outputs": [
        {
          "output_type": "stream",
          "name": "stdout",
          "text": [
            "MyClass()\n"
          ]
        }
      ]
    },
    {
      "cell_type": "markdown",
      "source": [
        "**20.What is the significance of the ‘super()’ function in Python?**\n",
        "\n",
        "-> The super() function in Python is used to call methods from a parent class (or superclass) in a subclass. It allows you to invoke a method from the parent class without explicitly naming it, which is especially useful in multiple inheritance.\n",
        "\n",
        "**Significance:**\n",
        "**Access parent class methods:** Used to call methods from a superclass, avoiding direct references to the parent class.\n",
        "\n",
        "**Multiple inheritance:** Helps ensure that the correct method is called from the right class in the inheritance hierarchy."
      ],
      "metadata": {
        "id": "-WUyV4_nmYmk"
      }
    },
    {
      "cell_type": "code",
      "source": [
        "#Example:\n",
        "class Animal:\n",
        "    def speak(self):\n",
        "        print(\"Animal speaks\")\n",
        "\n",
        "class Dog(Animal):\n",
        "    def speak(self):\n",
        "        super().speak()  # Calling method from parent class\n",
        "        print(\"Woof\")\n",
        "\n",
        "dog = Dog()\n",
        "dog.speak()\n",
        "# Output:\n",
        "# Animal speaks\n",
        "# Woof\n",
        "\n"
      ],
      "metadata": {
        "colab": {
          "base_uri": "https://localhost:8080/"
        },
        "id": "xHWzAfW1mTr9",
        "outputId": "3be2de1b-bf2f-4873-9040-e15cf47d1694"
      },
      "execution_count": 23,
      "outputs": [
        {
          "output_type": "stream",
          "name": "stdout",
          "text": [
            "Animal speaks\n",
            "Woof\n"
          ]
        }
      ]
    },
    {
      "cell_type": "markdown",
      "source": [
        "**21.What is the significance of the __del__ method in Python?**\n",
        "\n",
        "-> The __del__ method in Python is used for object destruction. It is called when an object is about to be destroyed or garbage collected, allowing you to perform cleanup tasks like closing files or releasing resources.\n",
        "\n",
        "**Example:**"
      ],
      "metadata": {
        "id": "PtOaHZaxmz8a"
      }
    },
    {
      "cell_type": "code",
      "source": [
        "class MyClass:\n",
        "    def __del__(self):\n",
        "        print(\"Object is being deleted\")\n",
        "\n",
        "obj = MyClass()\n",
        "del obj  # Output: Object is being deleted\n"
      ],
      "metadata": {
        "colab": {
          "base_uri": "https://localhost:8080/"
        },
        "id": "We3DRpinnO7C",
        "outputId": "9c70f5db-a321-43b3-d35c-e9aaa5294316"
      },
      "execution_count": 24,
      "outputs": [
        {
          "output_type": "stream",
          "name": "stdout",
          "text": [
            "Object is being deleted\n"
          ]
        }
      ]
    },
    {
      "cell_type": "markdown",
      "source": [
        "**22.What is the difference between @staticmethod and @classmethod in Python?**\n",
        "\n",
        "-> The difference between @staticmethod and @classmethod in Python is:\n",
        "\n",
        "**1.@staticmethod:**\n",
        "\n",
        "Does not take self or cls as the first argument.\n",
        "It behaves like a regular function, but belongs to the class's namespace.\n",
        "Cannot access or modify class or instance variables.\n",
        "\n",
        "**Example:**\n",
        "\n",
        "    class MyClass:\n",
        "    @staticmethod\n",
        "    def my_method():\n",
        "        print(\"Static method\")\n",
        "**2.@classmethod:**\n",
        "\n",
        "Takes cls as the first argument (class itself).\n",
        "Can access and modify class variables, but not instance-specific data.\n",
        "**Example:**\n",
        "\n",
        "    class MyClass:\n",
        "    @classmethod\n",
        "    def my_method(cls):\n",
        "        print(f\"Class method: {cls}\")\n"
      ],
      "metadata": {
        "id": "vr0gm7xYnVAB"
      }
    },
    {
      "cell_type": "markdown",
      "source": [
        "**23.How does polymorphism work in Python with inheritance?**\n",
        "\n",
        "-> In Python,** polymorphism** with inheritance allows different classes to have methods with the same name, but each class can provide its own implementation of the method. The method in the subclass **overrides** the method in the parent class, enabling objects of different classes to be treated uniformly while having different behaviors."
      ],
      "metadata": {
        "id": "y2wC2mgSn9Js"
      }
    },
    {
      "cell_type": "code",
      "source": [
        "# EXAMPLE\n",
        "class Animal:\n",
        "    def speak(self):\n",
        "        return \"Animal sound\"\n",
        "\n",
        "class Dog(Animal):\n",
        "    def speak(self):\n",
        "        return \"Woof\"\n",
        "\n",
        "class Cat(Animal):\n",
        "    def speak(self):\n",
        "        return \"Meow\"\n",
        "\n",
        "# Polymorphism in action\n",
        "animals = [Dog(), Cat()]\n",
        "for animal in animals:\n",
        "    print(animal.speak())  # Output: Woof \\n Meow\n"
      ],
      "metadata": {
        "colab": {
          "base_uri": "https://localhost:8080/"
        },
        "id": "ytusoTFLoQdf",
        "outputId": "3f6da694-dca7-4b9e-ecb1-463a4beba348"
      },
      "execution_count": 25,
      "outputs": [
        {
          "output_type": "stream",
          "name": "stdout",
          "text": [
            "Woof\n",
            "Meow\n"
          ]
        }
      ]
    },
    {
      "cell_type": "markdown",
      "source": [
        "**24. What is method chaining in Python OOP?**\n",
        "\n",
        "-> **Method chaining** in Python OOP refers to the practice of calling multiple methods on the same object in a single line, where each method returns the object itself (usually self), allowing the next method to be called on the same instance."
      ],
      "metadata": {
        "id": "gIrcWGdaoUtq"
      }
    },
    {
      "cell_type": "code",
      "source": [
        "#EXAMPLE\n",
        "class MyClass:\n",
        "    def __init__(self, value):\n",
        "        self.value = value\n",
        "\n",
        "    def add(self, x):\n",
        "        self.value += x\n",
        "        return self\n",
        "\n",
        "    def multiply(self, x):\n",
        "        self.value *= x\n",
        "        return self\n",
        "\n",
        "obj = MyClass(5)\n",
        "obj.add(3).multiply(2)  # Chaining methods\n",
        "print(obj.value)\n"
      ],
      "metadata": {
        "colab": {
          "base_uri": "https://localhost:8080/"
        },
        "id": "PDpARm2DomOb",
        "outputId": "a908fe3d-c6d6-4d95-e65c-939016c99a86"
      },
      "execution_count": 27,
      "outputs": [
        {
          "output_type": "stream",
          "name": "stdout",
          "text": [
            "16\n"
          ]
        }
      ]
    },
    {
      "cell_type": "markdown",
      "source": [
        "**25. What is the purpose of the __call__ method in Python?**\n",
        "\n",
        "-> The __call__ method in Python allows an instance of a class to be called like a function. When you define this method in a class, you can call an object of that class as if it were a function, enabling flexible behavior.\n",
        "\n",
        "**Example:**\n"
      ],
      "metadata": {
        "id": "PI3WkIKDow47"
      }
    },
    {
      "cell_type": "code",
      "source": [
        "class MyClass:\n",
        "    def __call__(self, x):\n",
        "        return x * 2\n",
        "\n",
        "obj = MyClass()\n",
        "print(obj(5))  # Output: 10\n"
      ],
      "metadata": {
        "colab": {
          "base_uri": "https://localhost:8080/"
        },
        "id": "CY7NFHp6o-o4",
        "outputId": "14b561e6-0127-400c-cc0a-a261668f09a8"
      },
      "execution_count": 28,
      "outputs": [
        {
          "output_type": "stream",
          "name": "stdout",
          "text": [
            "10\n"
          ]
        }
      ]
    },
    {
      "cell_type": "markdown",
      "source": [
        "# PRACTICAL QUESTIONS"
      ],
      "metadata": {
        "id": "sNHL5wbipE-7"
      }
    },
    {
      "cell_type": "markdown",
      "source": [
        "**1.Create a parent class Animal with a method speak() that prints a generic message. Create a child class Dog that overrides the speak() method to print \"Bark!\".**"
      ],
      "metadata": {
        "id": "-boJMGz7tEop"
      }
    },
    {
      "cell_type": "code",
      "source": [
        "\n",
        "#ANS->\n",
        "# Parent class Animal\n",
        "class Animal:\n",
        "    def speak(self):\n",
        "        print(\"Animal is making a sound\")\n",
        "\n",
        "# Child class Dog that overrides the speak() method\n",
        "class Dog(Animal):\n",
        "    def speak(self):\n",
        "        print(\"Bark!\")\n",
        "\n",
        "# Creating instances and calling the speak() method\n",
        "animal = Animal()\n",
        "animal.speak()\n",
        "\n",
        "dog = Dog()\n",
        "dog.speak()\n",
        "\n",
        "# Polymorphism example\n",
        "animal_dog = Dog()\n",
        "animal_dog.speak()"
      ],
      "metadata": {
        "colab": {
          "base_uri": "https://localhost:8080/"
        },
        "id": "15v5mGe3pLKk",
        "outputId": "70affe17-4b7d-4597-edea-9c78fbb311cb"
      },
      "execution_count": 39,
      "outputs": [
        {
          "output_type": "stream",
          "name": "stdout",
          "text": [
            "Animal is making a sound\n",
            "Bark!\n",
            "Bark!\n"
          ]
        }
      ]
    },
    {
      "cell_type": "markdown",
      "source": [
        "**2. Write a program to create an abstract class Shape with a method area(). Derive classes Circle and Rectangle from it and implement the area() method in both?**"
      ],
      "metadata": {
        "id": "uyzA_RyttP4Z"
      }
    },
    {
      "cell_type": "code",
      "source": [
        "\n",
        "# ANS->\n",
        "from abc import ABC, abstractmethod\n",
        "import math\n",
        "\n",
        "# Abstract class Shape\n",
        "class Shape(ABC):\n",
        "    @abstractmethod\n",
        "    def area(self):\n",
        "        pass\n",
        "\n",
        "# Derived class Circle\n",
        "class Circle(Shape):\n",
        "    def __init__(self, radius):\n",
        "        self.radius = radius\n",
        "\n",
        "    def area(self):\n",
        "        return math.pi * self.radius ** 2\n",
        "\n",
        "# Derived class Rectangle\n",
        "class Rectangle(Shape):\n",
        "    def __init__(self, length, width):\n",
        "        self.length = length\n",
        "        self.width = width\n",
        "\n",
        "    def area(self):\n",
        "        return self.length * self.width\n",
        "\n",
        "# Main function to test the classes\n",
        "if __name__ == \"__main__\":\n",
        "    circle = Circle(5)\n",
        "    print(f\"Area of Circle: {circle.area():.2f}\")\n",
        "\n",
        "    rectangle = Rectangle(4, 6)\n",
        "    print(f\"Area of Rectangle: {rectangle.area()}\")\n"
      ],
      "metadata": {
        "colab": {
          "base_uri": "https://localhost:8080/"
        },
        "id": "sZgOO95upccU",
        "outputId": "629bd40b-6f70-495d-abac-19ca21b9cd67"
      },
      "execution_count": 41,
      "outputs": [
        {
          "output_type": "stream",
          "name": "stdout",
          "text": [
            "Area of Circle: 78.54\n",
            "Area of Rectangle: 24\n"
          ]
        }
      ]
    },
    {
      "cell_type": "markdown",
      "source": [
        "**3.Implement a multi-level inheritance scenario where a class Vehicle has an attribute type. Derive a class Car and further derive a class ElectricCar that adds a battery attribute.**"
      ],
      "metadata": {
        "id": "QSB-mU_-taSO"
      }
    },
    {
      "cell_type": "code",
      "source": [
        "\n",
        "#ANS->\n",
        "# Base class Vehicle\n",
        "class Vehicle:\n",
        "    def __init__(self, vehicle_type):\n",
        "        self.vehicle_type = vehicle_type\n",
        "\n",
        "    def display_type(self):\n",
        "        print(f\"Vehicle type: {self.vehicle_type}\")\n",
        "\n",
        "# Derived class Car\n",
        "class Car(Vehicle):\n",
        "    def __init__(self, vehicle_type, brand, model):\n",
        "        super().__init__(vehicle_type)\n",
        "        self.brand = brand\n",
        "        self.model = model\n",
        "\n",
        "    def display_car_info(self):\n",
        "        print(f\"Car brand: {self.brand}, Model: {self.model}\")\n",
        "\n",
        "# Further derived class ElectricCar\n",
        "class ElectricCar(Car):\n",
        "    def __init__(self, vehicle_type, brand, model, battery_capacity):\n",
        "        super().__init__(vehicle_type, brand, model)\n",
        "        self.battery_capacity = battery_capacity\n",
        "\n",
        "    def display_electric_car_info(self):\n",
        "        self.display_type()\n",
        "        self.display_car_info()\n",
        "        print(f\"Battery capacity: {self.battery_capacity} kWh\")\n",
        "\n",
        "# Main function to test the classes\n",
        "if __name__ == \"__main__\":\n",
        "    my_electric_car = ElectricCar(\"Electric Vehicle\", \"Tesla\", \"Model S\", 100)\n",
        "    my_electric_car.display_electric_car_info()"
      ],
      "metadata": {
        "colab": {
          "base_uri": "https://localhost:8080/"
        },
        "id": "Kmd4Od24r5rh",
        "outputId": "93f12776-a3af-454c-8c15-1fb85f605098"
      },
      "execution_count": 43,
      "outputs": [
        {
          "output_type": "stream",
          "name": "stdout",
          "text": [
            "Vehicle type: Electric Vehicle\n",
            "Car brand: Tesla, Model: Model S\n",
            "Battery capacity: 100 kWh\n"
          ]
        }
      ]
    },
    {
      "cell_type": "code",
      "source": [
        "#4 AND 3 HAVE SAME QUESTION\n"
      ],
      "metadata": {
        "id": "VfXJRyXAsNr7"
      },
      "execution_count": 36,
      "outputs": []
    },
    {
      "cell_type": "markdown",
      "source": [
        "**5.Write a program to demonstrate encapsulation by creating a class BankAccount with private attributes balance and methods to deposit, withdraw, and check balance.**"
      ],
      "metadata": {
        "id": "DrRXOCAIth3U"
      }
    },
    {
      "cell_type": "code",
      "source": [
        "#5. Write a program to demonstrate encapsulation by creating a class BankAccount with private attributes\n",
        "#balance and methods to deposit, withdraw, and check balance.\n",
        "#ANS->\n",
        "class BankAccount:\n",
        "    def __init__(self, initial_balance=0):\n",
        "        self.__balance = initial_balance  # Private attribute\n",
        "\n",
        "    # Method to deposit money\n",
        "    def deposit(self, amount):\n",
        "        if amount > 0:\n",
        "            self.__balance += amount\n",
        "            print(f\"Deposited: {amount}\")\n",
        "        else:\n",
        "            print(\"Deposit amount must be positive\")\n",
        "\n",
        "    # Method to withdraw money\n",
        "    def withdraw(self, amount):\n",
        "        if 0 < amount <= self.__balance:\n",
        "            self.__balance -= amount\n",
        "            print(f\"Withdrawn: {amount}\")\n",
        "        elif amount > self.__balance:\n",
        "            print(\"Insufficient balance\")\n",
        "        else:\n",
        "            print(\"Withdrawal amount must be positive\")\n",
        "\n",
        "    # Method to check balance\n",
        "    def check_balance(self):\n",
        "        print(f\"Current balance: {self.__balance}\")\n",
        "\n",
        "# Main function to test the class\n",
        "if __name__ == \"__main__\":\n",
        "    account = BankAccount(100)\n",
        "    account.check_balance()\n",
        "    account.deposit(50)\n",
        "    account.check_balance()\n",
        "    account.withdraw(30)\n",
        "    account.check_balance()\n",
        "    account.withdraw(200)\n"
      ],
      "metadata": {
        "colab": {
          "base_uri": "https://localhost:8080/"
        },
        "id": "bprqCNphsgX9",
        "outputId": "13338faf-addb-466c-bf96-ceead5b8a9ff"
      },
      "execution_count": 37,
      "outputs": [
        {
          "output_type": "stream",
          "name": "stdout",
          "text": [
            "Current balance: 100\n",
            "Deposited: 50\n",
            "Current balance: 150\n",
            "Withdrawn: 30\n",
            "Current balance: 120\n",
            "Insufficient balance\n"
          ]
        }
      ]
    },
    {
      "cell_type": "markdown",
      "source": [
        "**6. Demonstrate runtime polymorphism using a method play() in a base class Instrument. Derive classes Guitar and Piano that implement their own version of play().**"
      ],
      "metadata": {
        "id": "GayB2JqrtzjD"
      }
    },
    {
      "cell_type": "code",
      "source": [
        "\n",
        "#ANS->\n",
        "# Base class Instrument\n",
        "class Instrument:\n",
        "    def play(self):\n",
        "        print(\"Playing an instrument\")\n",
        "\n",
        "# Derived class Guitar\n",
        "class Guitar(Instrument):\n",
        "    def play(self):\n",
        "        print(\"Playing the guitar: Strum, strum!\")\n",
        "\n",
        "# Derived class Piano\n",
        "class Piano(Instrument):\n",
        "    def play(self):\n",
        "        print(\"Playing the piano: Ding, dong!\")\n",
        "\n",
        "# Function to demonstrate runtime polymorphism\n",
        "def play_instrument(instrument):\n",
        "    instrument.play()  # Calls the appropriate play() method based on the object type\n",
        "\n",
        "# Main function to test the classes\n",
        "if __name__ == \"__main__\":\n",
        "    # Creating instances of Guitar and Piano\n",
        "    guitar = Guitar()\n",
        "    piano = Piano()\n",
        "\n",
        "    # Demonstrating runtime polymorphism\n",
        "    play_instrument(guitar)\n",
        "    play_instrument(piano)\n",
        "\n"
      ],
      "metadata": {
        "colab": {
          "base_uri": "https://localhost:8080/"
        },
        "id": "33-yeJj_sqJG",
        "outputId": "058f5bce-f9bf-44c9-ef1b-dcc35936ed9f"
      },
      "execution_count": 38,
      "outputs": [
        {
          "output_type": "stream",
          "name": "stdout",
          "text": [
            "Playing the guitar: Strum, strum!\n",
            "Playing the piano: Ding, dong!\n"
          ]
        }
      ]
    },
    {
      "cell_type": "markdown",
      "source": [
        "**7. Create a class MathOperations with a class method add_numbers() to add two numbers and a static method subtract_numbers() to subtract two numbers.**"
      ],
      "metadata": {
        "id": "KEzAV58dt4t4"
      }
    },
    {
      "cell_type": "code",
      "source": [
        "#7\n",
        "class MathOperations:\n",
        "    # Class method to add two numbers\n",
        "    @classmethod\n",
        "    def add_numbers(cls, a, b):\n",
        "        return a + b\n",
        "\n",
        "    # Static method to subtract two numbers\n",
        "    @staticmethod\n",
        "    def subtract_numbers(a, b):\n",
        "        return a - b\n",
        "\n",
        "# Main function to test the methods\n",
        "if __name__ == \"__main__\":\n",
        "    # Using class method to add numbers\n",
        "    sum_result = MathOperations.add_numbers(10, 5)\n",
        "    print(f\"Sum: {sum_result}\")\n",
        "\n",
        "    # Using static method to subtract numbers\n",
        "    diff_result = MathOperations.subtract_numbers(10, 5)"
      ],
      "metadata": {
        "colab": {
          "base_uri": "https://localhost:8080/"
        },
        "id": "NA-_3idIs3jy",
        "outputId": "0c591d7c-9378-4694-8306-a548e0da7a02"
      },
      "execution_count": 44,
      "outputs": [
        {
          "output_type": "stream",
          "name": "stdout",
          "text": [
            "Sum: 15\n"
          ]
        }
      ]
    },
    {
      "cell_type": "markdown",
      "source": [
        " **8.Implement a class Person with a class method to count the total number of persons created.**"
      ],
      "metadata": {
        "id": "wLfP5PgRubtB"
      }
    },
    {
      "cell_type": "code",
      "source": [
        "#8\n",
        "class Person:\n",
        "    total_count = 0  # Class attribute to keep track of the total number of persons\n",
        "\n",
        "    def __init__(self, name):\n",
        "        self.name = name\n",
        "        Person.total_count += 1  # Increment the count whenever a new Person is created\n",
        "\n",
        "    @classmethod\n",
        "    def get_total_count(cls):\n",
        "        return cls.total_count  # Return the total count\n",
        "\n",
        "# Main function to test the class\n",
        "if __name__ == \"__main__\":\n",
        "    p1 = Person(\"Alice\")\n",
        "    p2 = Person(\"Bob\")\n",
        "    p3 = Person(\"Charlie\")\n",
        "\n",
        "    print(f\"Total number of persons created: {Person.get_total_count()}\")"
      ],
      "metadata": {
        "colab": {
          "base_uri": "https://localhost:8080/"
        },
        "id": "2sCNK3AquZHA",
        "outputId": "e5b6567c-7126-4476-d8f7-424d787210b8"
      },
      "execution_count": 45,
      "outputs": [
        {
          "output_type": "stream",
          "name": "stdout",
          "text": [
            "Total number of persons created: 3\n"
          ]
        }
      ]
    },
    {
      "cell_type": "markdown",
      "source": [
        " **9.Write a class Fraction with attributes numerator and denominator. Override the str method to display the fraction as \"numerator/denominator\".**"
      ],
      "metadata": {
        "id": "-jr0bEYVulsk"
      }
    },
    {
      "cell_type": "code",
      "source": [
        "#9\n",
        "class Fraction:\n",
        "    def __init__(self, numerator, denominator):\n",
        "        self.numerator = numerator\n",
        "        self.denominator = denominator\n",
        "\n",
        "    def __str__(self):\n",
        "        return f\"{self.numerator}/{self.denominator}\"\n",
        "\n",
        "# Main function to test the class\n",
        "if __name__ == \"__main__\":\n",
        "    f1 = Fraction(3, 4)\n",
        "    f2 = Fraction(5, 8)\n",
        "\n",
        "    print(f\"Fraction 1: {f1}\")\n",
        "    print(f\"Fraction 2: {f2}\")"
      ],
      "metadata": {
        "colab": {
          "base_uri": "https://localhost:8080/"
        },
        "id": "5wLFa5vCukjF",
        "outputId": "c6630f13-ca37-4c79-f6e4-57ff8b1d2d28"
      },
      "execution_count": 46,
      "outputs": [
        {
          "output_type": "stream",
          "name": "stdout",
          "text": [
            "Fraction 1: 3/4\n",
            "Fraction 2: 5/8\n"
          ]
        }
      ]
    },
    {
      "cell_type": "markdown",
      "source": [
        "**10. Demonstrate operator overloading by creating a class Vector and overriding the add method to add two vectors**."
      ],
      "metadata": {
        "id": "s5R6C6jKu48c"
      }
    },
    {
      "cell_type": "code",
      "source": [
        "#10\n",
        "class Vector:\n",
        "    def __init__(self, x, y):\n",
        "        self.x = x\n",
        "        self.y = y\n",
        "\n",
        "    def __add__(self, other):\n",
        "        if isinstance(other, Vector):\n",
        "            return Vector(self.x + other.x, self.y + other.y)\n",
        "        else:\n",
        "            raise TypeError(\"Operands must be of type Vector\")\n",
        "\n",
        "    def __str__(self):\n",
        "        return f\"Vector({self.x}, {self.y})\"\n",
        "\n",
        "# Main function to test the class\n",
        "if __name__ == \"__main__\":\n",
        "    v1 = Vector(2, 3)\n",
        "    v2 = Vector(4, 5)\n",
        "\n",
        "    v3 = v1 + v2\n",
        "    print(f\"v1: {v1}\")\n",
        "    print(f\"v2: {v2}\")\n",
        "    print(f\"v1 + v2 = {v3}\")"
      ],
      "metadata": {
        "colab": {
          "base_uri": "https://localhost:8080/"
        },
        "id": "AHhy0RYdu3qP",
        "outputId": "40ce07e0-96bd-4699-8a28-dcb83545c587"
      },
      "execution_count": 47,
      "outputs": [
        {
          "output_type": "stream",
          "name": "stdout",
          "text": [
            "v1: Vector(2, 3)\n",
            "v2: Vector(4, 5)\n",
            "v1 + v2 = Vector(6, 8)\n"
          ]
        }
      ]
    },
    {
      "cell_type": "markdown",
      "source": [
        "**11.Create a class Person with attributes name and age. Add a method greet() that prints \"Hello, my name is {name} and I am {age} years old.\"**"
      ],
      "metadata": {
        "id": "h1nyds8FvHf_"
      }
    },
    {
      "cell_type": "code",
      "source": [
        "#11\n",
        "class Person:\n",
        "    def __init__(self, name, age):\n",
        "        self.name = name\n",
        "        self.age = age\n",
        "\n",
        "    def greet(self):\n",
        "        print(f\"Hello, my name is {self.name} and I am {self.age} years old.\")\n",
        "\n",
        "# Main function to test the class\n",
        "if __name__ == \"__main__\":\n",
        "    person1 = Person(\"Alice\", 25)\n",
        "    person2 = Person(\"Bob\", 30)\n",
        "\n",
        "    person1.greet()\n",
        "    person2.greet()"
      ],
      "metadata": {
        "colab": {
          "base_uri": "https://localhost:8080/"
        },
        "id": "lbDZVDahvGUl",
        "outputId": "4ba74de4-a171-46fa-8c3a-192d7e6e781d"
      },
      "execution_count": 48,
      "outputs": [
        {
          "output_type": "stream",
          "name": "stdout",
          "text": [
            "Hello, my name is Alice and I am 25 years old.\n",
            "Hello, my name is Bob and I am 30 years old.\n"
          ]
        }
      ]
    },
    {
      "cell_type": "markdown",
      "source": [
        "**12.Implement a class Student with attributes name and grades. Create a method average_grade() to compute the average of the grades.**\n"
      ],
      "metadata": {
        "id": "xV8Vm2w5vhDV"
      }
    },
    {
      "cell_type": "code",
      "source": [
        "#12\n",
        "class Student:\n",
        "    def __init__(self, name, grades):\n",
        "        self.name = name\n",
        "        self.grades = grades  # List of grades\n",
        "\n",
        "    def average_grade(self):\n",
        "        if len(self.grades) == 0:\n",
        "            return 0  # Return 0 if there are no grades\n",
        "        return sum(self.grades) / len(self.grades)\n",
        "\n",
        "# Main function to test the class\n",
        "if __name__ == \"__main__\":\n",
        "    student1 = Student(\"Alice\", [85, 90, 78, 92])\n",
        "    student2 = Student(\"Bob\", [70, 75, 80])\n",
        "\n",
        "    print(f\"{student1.name}'s average grade: {student1.average_grade():.2f}\")\n",
        "    print(f\"{student2.name}'s average grade: {student2.average_grade():.2f}\")"
      ],
      "metadata": {
        "colab": {
          "base_uri": "https://localhost:8080/"
        },
        "id": "kWny_dIgvfmo",
        "outputId": "58c05533-213a-4bf4-9288-8d19cd9324b9"
      },
      "execution_count": 49,
      "outputs": [
        {
          "output_type": "stream",
          "name": "stdout",
          "text": [
            "Alice's average grade: 86.25\n",
            "Bob's average grade: 75.00\n"
          ]
        }
      ]
    },
    {
      "cell_type": "markdown",
      "source": [
        "**13. Create a class Rectangle with methods set_dimensions() to set the dimensions and area() to calculate the area.**"
      ],
      "metadata": {
        "id": "RB4X1CJqvuqe"
      }
    },
    {
      "cell_type": "code",
      "source": [
        "#13\n",
        "class Rectangle:\n",
        "    def __init__(self):\n",
        "        self.length = 0\n",
        "        self.width = 0\n",
        "\n",
        "    def set_dimensions(self, length, width):\n",
        "        self.length = length\n",
        "        self.width = width\n",
        "\n",
        "    def area(self):\n",
        "        return self.length * self.width\n",
        "\n",
        "# Main function to test the class\n",
        "if __name__ == \"__main__\":\n",
        "    rect = Rectangle()\n",
        "\n",
        "    # Setting dimensions of the rectangle\n",
        "    rect.set_dimensions(5, 10)\n",
        "\n",
        "    # Calculating and displaying the area\n",
        "    print(f\"Area of the rectangle: {rect.area()}\")"
      ],
      "metadata": {
        "colab": {
          "base_uri": "https://localhost:8080/"
        },
        "id": "augl6DJBvtpV",
        "outputId": "598f0769-6b1d-4dbf-a5aa-cf729f4c309e"
      },
      "execution_count": 50,
      "outputs": [
        {
          "output_type": "stream",
          "name": "stdout",
          "text": [
            "Area of the rectangle: 50\n"
          ]
        }
      ]
    },
    {
      "cell_type": "markdown",
      "source": [
        "**14. Create a class Employee with a method calculate_salary() that computes the salary based on hours worked and hourly rate. Create a derived class Manager that adds a bonus to the salary.**"
      ],
      "metadata": {
        "id": "poKCzzmkv86R"
      }
    },
    {
      "cell_type": "code",
      "source": [
        "#14\n",
        "class Employee:\n",
        "    def __init__(self, name, hourly_rate):\n",
        "        self.name = name\n",
        "        self.hourly_rate = hourly_rate\n",
        "\n",
        "    def calculate_salary(self, hours_worked):\n",
        "        return self.hourly_rate * hours_worked\n",
        "\n",
        "class Manager(Employee):\n",
        "    def __init__(self, name, hourly_rate, bonus):\n",
        "        super().__init__(name, hourly_rate)\n",
        "        self.bonus = bonus\n",
        "\n",
        "    def calculate_salary(self, hours_worked):\n",
        "        base_salary = super().calculate_salary(hours_worked)  # Call the parent method\n",
        "        return base_salary + self.bonus\n",
        "\n",
        "# Main function to test the classes\n",
        "if __name__ == \"__main__\":\n",
        "    emp = Employee(\"Alice\", 20)\n",
        "    mgr = Manager(\"Bob\", 40, 500)\n",
        "\n",
        "    print(f\"{emp.name}'s salary: ${emp.calculate_salary(40)}\")\n",
        "    print(f\"{mgr.name}'s salary: ${mgr.calculate_salary(40)}\")"
      ],
      "metadata": {
        "colab": {
          "base_uri": "https://localhost:8080/"
        },
        "id": "gdsbcjQ7v_h1",
        "outputId": "6fb812f1-b84c-4331-a315-f66aa437bece"
      },
      "execution_count": 51,
      "outputs": [
        {
          "output_type": "stream",
          "name": "stdout",
          "text": [
            "Alice's salary: $800\n",
            "Bob's salary: $2100\n"
          ]
        }
      ]
    },
    {
      "cell_type": "markdown",
      "source": [
        "**15. Create a class Product with attributes name, price, and quantity. Implement a method total_price() that calculates the total price of the product.**"
      ],
      "metadata": {
        "id": "nh7lfvKXwDEe"
      }
    },
    {
      "cell_type": "code",
      "source": [
        "#15\n",
        "class Product:\n",
        "    def __init__(self, name, price, quantity):\n",
        "        self.name = name\n",
        "        self.price = price\n",
        "        self.quantity = quantity\n",
        "\n",
        "    def total_price(self):\n",
        "        return self.price * self.quantity\n",
        "\n",
        "# Main function to test the class\n",
        "if __name__ == \"__main__\":\n",
        "    product1 = Product(\"Laptop\", 800, 2)\n",
        "    product2 = Product(\"Phone\", 500, 3)\n",
        "\n",
        "    print(f\"Total price of {product1.name}: ${product1.total_price()}\")\n",
        "    print(f\"Total price of {product2.name}: ${product2.total_price()}\")"
      ],
      "metadata": {
        "colab": {
          "base_uri": "https://localhost:8080/"
        },
        "id": "hSITysofwCQW",
        "outputId": "81ee5966-0f15-48c9-b0ed-173d069d9ee0"
      },
      "execution_count": 52,
      "outputs": [
        {
          "output_type": "stream",
          "name": "stdout",
          "text": [
            "Total price of Laptop: $1600\n",
            "Total price of Phone: $1500\n"
          ]
        }
      ]
    },
    {
      "cell_type": "markdown",
      "source": [
        "**16. Create a class Animal with an abstract method sound(). Create two derived classes Cow and Sheep that implement the sound() method.**\n"
      ],
      "metadata": {
        "id": "O-E1iSjhwKbz"
      }
    },
    {
      "cell_type": "code",
      "source": [
        "#16\n",
        "from abc import ABC, abstractmethod\n",
        "\n",
        "class Animal(ABC):\n",
        "    @abstractmethod\n",
        "    def sound(self):\n",
        "        pass  # Abstract method to be implemented by derived classes\n",
        "\n",
        "class Cow(Animal):\n",
        "    def sound(self):\n",
        "        return \"Moo\"\n",
        "\n",
        "class Sheep(Animal):\n",
        "    def sound(self):\n",
        "        return \"Baa\"\n",
        "\n",
        "# Main function to test the classes\n",
        "if __name__ == \"__main__\":\n",
        "    cow = Cow()\n",
        "    sheep = Sheep()\n",
        "\n",
        "    print(f\"Cow sound: {cow.sound()}\")\n",
        "    print(f\"Sheep sound: {sheep.sound()}\")"
      ],
      "metadata": {
        "colab": {
          "base_uri": "https://localhost:8080/"
        },
        "id": "ARniciOgwJrd",
        "outputId": "912401b0-459e-4f5c-b80a-46de7e3a4919"
      },
      "execution_count": 53,
      "outputs": [
        {
          "output_type": "stream",
          "name": "stdout",
          "text": [
            "Cow sound: Moo\n",
            "Sheep sound: Baa\n"
          ]
        }
      ]
    },
    {
      "cell_type": "markdown",
      "source": [
        "**17. Create a class Book with attributes title, author, and year_published. Add a method get_book_info() that returns a formatted string with the book's details.**"
      ],
      "metadata": {
        "id": "olU17-LOwWr7"
      }
    },
    {
      "cell_type": "code",
      "source": [
        "#17\n",
        "class Book:\n",
        "    def __init__(self, title, author, year_published):\n",
        "        self.title = title\n",
        "        self.author = author\n",
        "        self.year_published = year_published\n",
        "\n",
        "    def get_book_info(self):\n",
        "        return f\"Title: {self.title}\\nAuthor: {self.author}\\nYear Published: {self.year_published}\"\n",
        "\n",
        "# Main function to test the class\n",
        "if __name__ == \"__main__\":\n",
        "    book1 = Book(\"1984\", \"George Orwell\", 1949)\n",
        "    book2 = Book(\"To Kill a Mockingbird\", \"Harper Lee\", 1960)\n",
        "\n",
        "    print(f\"Book 1 Info:\\n{book1.get_book_info()}\\n\")\n",
        "    print(f\"Book 2 Info:\\n{book2.get_book_info()}\")"
      ],
      "metadata": {
        "colab": {
          "base_uri": "https://localhost:8080/"
        },
        "id": "YynXbeSuwThs",
        "outputId": "6bac68d3-8244-4b35-e1c7-25a7a7d4d584"
      },
      "execution_count": 54,
      "outputs": [
        {
          "output_type": "stream",
          "name": "stdout",
          "text": [
            "Book 1 Info:\n",
            "Title: 1984\n",
            "Author: George Orwell\n",
            "Year Published: 1949\n",
            "\n",
            "Book 2 Info:\n",
            "Title: To Kill a Mockingbird\n",
            "Author: Harper Lee\n",
            "Year Published: 1960\n"
          ]
        }
      ]
    },
    {
      "cell_type": "markdown",
      "source": [
        "**18. Create a class House with attributes address and price. Create a derived class Mansion that adds an attribute number_of_room**s"
      ],
      "metadata": {
        "id": "ochNK14dwh9s"
      }
    },
    {
      "cell_type": "code",
      "source": [
        "#18\n",
        "class House:\n",
        "    def __init__(self, address, price):\n",
        "        self.address = address\n",
        "        self.price = price\n",
        "\n",
        "    def get_info(self):\n",
        "        return f\"Address: {self.address}\\nPrice: ${self.price}\"\n",
        "\n",
        "class Mansion(House):\n",
        "    def __init__(self, address, price, number_of_rooms):\n",
        "        super().__init__(address, price)  # Call the parent class constructor\n",
        "        self.number_of_rooms = number_of_rooms\n",
        "\n",
        "    def get_info(self):\n",
        "        house_info = super().get_info()  # Get base class info\n",
        "        return f\"{house_info}\\nNumber of Rooms: {self.number_of_rooms}\"\n",
        "\n",
        "# Main function to test the classes\n",
        "if __name__ == \"__main__\":\n",
        "    house = House(\"123 Main St\", 250000)\n",
        "    mansion = Mansion(\"456 Luxury Ave\", 5000000, 10)\n",
        "\n",
        "    print(\"House Info:\")\n",
        "    print(house.get_info())\n",
        "\n",
        "    print(\"\\nMansion Info:\")\n",
        "    print(mansion.get_info())\n"
      ],
      "metadata": {
        "colab": {
          "base_uri": "https://localhost:8080/"
        },
        "id": "uD1T-kM3wkvA",
        "outputId": "369ea0a7-c071-49ae-de1d-75872d97c128"
      },
      "execution_count": 55,
      "outputs": [
        {
          "output_type": "stream",
          "name": "stdout",
          "text": [
            "House Info:\n",
            "Address: 123 Main St\n",
            "Price: $250000\n",
            "\n",
            "Mansion Info:\n",
            "Address: 456 Luxury Ave\n",
            "Price: $5000000\n",
            "Number of Rooms: 10\n"
          ]
        }
      ]
    },
    {
      "cell_type": "markdown",
      "source": [
        "#                                 END"
      ],
      "metadata": {
        "id": "N-r4yauUwq7Q"
      }
    },
    {
      "cell_type": "code",
      "source": [],
      "metadata": {
        "id": "52UorZiswpYn"
      },
      "execution_count": null,
      "outputs": []
    }
  ]
}